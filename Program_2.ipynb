{
  "nbformat": 4,
  "nbformat_minor": 0,
  "metadata": {
    "colab": {
      "provenance": [],
      "authorship_tag": "ABX9TyMLloH3Ib9TJyfm2lcgaC99",
      "include_colab_link": true
    },
    "kernelspec": {
      "name": "python3",
      "display_name": "Python 3"
    },
    "language_info": {
      "name": "python"
    }
  },
  "cells": [
    {
      "cell_type": "markdown",
      "metadata": {
        "id": "view-in-github",
        "colab_type": "text"
      },
      "source": [
        "<a href=\"https://colab.research.google.com/github/Michael5577/Assignments-Program/blob/main/Program_2.ipynb\" target=\"_parent\"><img src=\"https://colab.research.google.com/assets/colab-badge.svg\" alt=\"Open In Colab\"/></a>"
      ]
    },
    {
      "cell_type": "code",
      "execution_count": 1,
      "metadata": {
        "colab": {
          "base_uri": "https://localhost:8080/"
        },
        "id": "iXr6XTZqqgfe",
        "outputId": "a24832a2-10dc-49a3-881f-689fb42bbc51"
      },
      "outputs": [
        {
          "output_type": "stream",
          "name": "stdout",
          "text": [
            "Welcome to the Decimal-Hexadecimal Converter!\n",
            "\n",
            "Please choose an option:\n",
            "1. Convert Decimal to Hexadecimal\n",
            "2. Convert Hexadecimal to Decimal\n",
            "3. Exit\n",
            "Enter your choice (1, 2, or 3): 1\n",
            "Enter a non-negative decimal number: 500\n",
            "Hexadecimal representation: 1F4\n",
            "\n",
            "Please choose an option:\n",
            "1. Convert Decimal to Hexadecimal\n",
            "2. Convert Hexadecimal to Decimal\n",
            "3. Exit\n",
            "Enter your choice (1, 2, or 3): 2\n",
            "Enter a hexadecimal number: f54f\n",
            "Decimal representation: 62799\n",
            "\n",
            "Please choose an option:\n",
            "1. Convert Decimal to Hexadecimal\n",
            "2. Convert Hexadecimal to Decimal\n",
            "3. Exit\n",
            "Enter your choice (1, 2, or 3): 3\n",
            "Thank you for using the Decimal-Hexadecimal Converter. Goodbye!\n"
          ]
        }
      ],
      "source": [
        "def decimal_to_hex(decimal_num):\n",
        "    if decimal_num == 0:\n",
        "        return \"0\"\n",
        "\n",
        "    hex_chars = \"0123456789ABCDEF\"\n",
        "    hex_result = \"\"\n",
        "\n",
        "    while decimal_num > 0:\n",
        "        remainder = decimal_num % 16\n",
        "        hex_result = hex_chars[remainder] + hex_result\n",
        "        decimal_num //= 16\n",
        "\n",
        "    return hex_result\n",
        "\n",
        "def hex_to_decimal(hex_num):\n",
        "    hex_chars = \"0123456789ABCDEF\"\n",
        "    decimal_result = 0\n",
        "\n",
        "    for char in hex_num.upper():\n",
        "        if char not in hex_chars:\n",
        "            return None  # Invalid hexadecimal character\n",
        "        decimal_result = decimal_result * 16 + hex_chars.index(char)\n",
        "\n",
        "    return decimal_result\n",
        "\n",
        "def validate_decimal(num_str):\n",
        "    try:\n",
        "        num = int(num_str)\n",
        "        return num >= 0\n",
        "    except ValueError:\n",
        "        return False\n",
        "\n",
        "def validate_hex(num_str):\n",
        "    return all(c in \"0123456789ABCDEFabcdef\" for c in num_str)\n",
        "\n",
        "def main():\n",
        "    print(\"Welcome to the Decimal-Hexadecimal Converter!\")\n",
        "\n",
        "    while True:\n",
        "        print(\"\\nPlease choose an option:\")\n",
        "        print(\"1. Convert Decimal to Hexadecimal\")\n",
        "        print(\"2. Convert Hexadecimal to Decimal\")\n",
        "        print(\"3. Exit\")\n",
        "\n",
        "        choice = input(\"Enter your choice (1, 2, or 3): \")\n",
        "\n",
        "        if choice == '1':\n",
        "            decimal_input = input(\"Enter a non-negative decimal number: \")\n",
        "            if validate_decimal(decimal_input):\n",
        "                decimal_num = int(decimal_input)\n",
        "                hex_result = decimal_to_hex(decimal_num)\n",
        "                print(f\"Hexadecimal representation: {hex_result}\")\n",
        "            else:\n",
        "                print(\"Invalid input. Please enter a non-negative integer.\")\n",
        "\n",
        "        elif choice == '2':\n",
        "            hex_input = input(\"Enter a hexadecimal number: \")\n",
        "            if validate_hex(hex_input):\n",
        "                decimal_result = hex_to_decimal(hex_input)\n",
        "                print(f\"Decimal representation: {decimal_result}\")\n",
        "            else:\n",
        "                print(\"Invalid input. Please enter a valid hexadecimal number.\")\n",
        "\n",
        "        elif choice == '3':\n",
        "            print(\"Thank you for using the Decimal-Hexadecimal Converter. Goodbye!\")\n",
        "            break\n",
        "\n",
        "        else:\n",
        "            print(\"Invalid choice. Please enter 1, 2, or 3.\")\n",
        "\n",
        "if __name__ == \"__main__\":\n",
        "    main()"
      ]
    }
  ]
}