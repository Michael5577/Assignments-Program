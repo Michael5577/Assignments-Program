{
  "nbformat": 4,
  "nbformat_minor": 0,
  "metadata": {
    "colab": {
      "provenance": [],
      "authorship_tag": "ABX9TyMoIrlhLyXz30hSMKRyWtt0",
      "include_colab_link": true
    },
    "kernelspec": {
      "name": "python3",
      "display_name": "Python 3"
    },
    "language_info": {
      "name": "python"
    }
  },
  "cells": [
    {
      "cell_type": "markdown",
      "metadata": {
        "id": "view-in-github",
        "colab_type": "text"
      },
      "source": [
        "<a href=\"https://colab.research.google.com/github/Michael5577/Assignments-Program/blob/main/Program_1_Fibonacci.ipynb\" target=\"_parent\"><img src=\"https://colab.research.google.com/assets/colab-badge.svg\" alt=\"Open In Colab\"/></a>"
      ]
    },
    {
      "cell_type": "code",
      "execution_count": null,
      "metadata": {
        "colab": {
          "base_uri": "https://localhost:8080/"
        },
        "id": "2JBG7QUqFBvA",
        "outputId": "c6eae71a-5322-43e3-9917-be24f3aebbbe"
      },
      "outputs": [
        {
          "output_type": "stream",
          "name": "stdout",
          "text": [
            "Enter the nth Fibonacci number you'd like to calculate (or 0 to exit): 7\n",
            "\n",
            "Calculating the 7th Fibonacci number:\n",
            "Using recursive method: 13\n",
            "Using explicit formula: 13\n",
            "Both methods produce the same result.\n",
            "\n",
            "--------------------------------------------------\n",
            "\n",
            "Enter the nth Fibonacci number you'd like to calculate (or 0 to exit): 12\n",
            "\n",
            "Calculating the 12th Fibonacci number:\n",
            "Using recursive method: 144\n",
            "Using explicit formula: 144\n",
            "Both methods produce the same result.\n",
            "\n",
            "--------------------------------------------------\n",
            "\n",
            "Enter the nth Fibonacci number you'd like to calculate (or 0 to exit): 20\n",
            "\n",
            "Calculating the 20th Fibonacci number:\n",
            "Using recursive method: 6765\n",
            "Using explicit formula: 6765\n",
            "Both methods produce the same result.\n",
            "\n",
            "--------------------------------------------------\n",
            "\n",
            "Enter the nth Fibonacci number you'd like to calculate (or 0 to exit): 0\n",
            "Exiting program. Goodbye!\n"
          ]
        }
      ],
      "source": [
        "import math\n",
        "\n",
        "def fibonacci_recursive(n):\n",
        "    if n <= 0:\n",
        "        return \"Invalid input. Please enter a positive integer.\"\n",
        "    elif n == 1 or n == 2:\n",
        "        return 1\n",
        "    else:\n",
        "        return fibonacci_recursive(n-1) + fibonacci_recursive(n-2)\n",
        "\n",
        "def fibonacci_explicit(n):\n",
        "    if n <= 0:\n",
        "        return \"Invalid input. Please enter a positive integer.\"\n",
        "    else:\n",
        "        phi = (1 + math.sqrt(5)) / 2\n",
        "        return round((phi**n - (-1/phi)**n) / math.sqrt(5))\n",
        "\n",
        "# Main program\n",
        "while True:\n",
        "    try:\n",
        "        n = int(input(\"Enter the nth Fibonacci number you'd like to calculate (or 0 to exit): \"))\n",
        "        if n == 0:\n",
        "            print(\"Exiting program. Goodbye!\")\n",
        "            break\n",
        "\n",
        "        if n < 0:\n",
        "            print(\"Please enter a positive integer.\")\n",
        "            continue\n",
        "\n",
        "        print(f\"\\nCalculating the {n}th Fibonacci number:\")\n",
        "\n",
        "        recursive_result = fibonacci_recursive(n)\n",
        "        print(f\"Using recursive method: {recursive_result}\")\n",
        "\n",
        "        explicit_result = fibonacci_explicit(n)\n",
        "        print(f\"Using explicit formula: {explicit_result}\")\n",
        "\n",
        "        if recursive_result == explicit_result:\n",
        "            print(\"Both methods produce the same result.\")\n",
        "        else:\n",
        "            print(\"The results from the two methods differ.\")\n",
        "\n",
        "        print(\"\\n\" + \"-\"*50 + \"\\n\")\n",
        "\n",
        "    except ValueError:\n",
        "        print(\"Invalid input. Please enter a positive integer.\")"
      ]
    }
  ]
}